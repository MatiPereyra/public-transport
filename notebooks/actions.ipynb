{
 "cells": [
  {
   "metadata": {},
   "cell_type": "markdown",
   "source": [
    "# Tareas\n",
    "1) Desde un notebook, script para llamar a ecobici y guardar alguna info SIMPLE (ej: cuántos slots ocupados) en csv.\n",
    "2) Agregar el secret para usar en github actions\n",
    "3) Configurar la Github Action para que haga un commit (en una branch en particular? O en main?)\n",
    "4) Luego de probar que funciona, agregar el cron a la github action\n",
    "5) Mergear a main el nuevo código"
   ],
   "id": "d4b076bdc246edd5"
  },
  {
   "metadata": {
    "ExecuteTime": {
     "end_time": "2025-05-02T01:16:33.438925Z",
     "start_time": "2025-05-02T01:16:33.435188Z"
    }
   },
   "cell_type": "code",
   "source": [
    "import pandas as pd\n",
    "from datetime import datetime, UTC\n",
    "import requests"
   ],
   "id": "9a265977173e4809",
   "outputs": [],
   "execution_count": 32
  },
  {
   "metadata": {
    "ExecuteTime": {
     "end_time": "2025-05-02T00:45:17.958591Z",
     "start_time": "2025-05-02T00:45:17.953074Z"
    }
   },
   "cell_type": "code",
   "source": [
    "class TransportBAClient():\n",
    "    def __init__(self):\n",
    "        self.get_stations_url = \"https://apitransporte.buenosaires.gob.ar/ecobici/gbfs/stationInformation?\"\n",
    "        self.get_stations_status_url = \"https://apitransporte.buenosaires.gob.ar/ecobici/gbfs/stationStatus?\"\n",
    "        self.client = requests.Session()\n",
    "        self.query_params = {\n",
    "            \"client_id\": \"868ff25380304c3db374a9b6a02798b7\",\n",
    "            \"client_secret\": \"B2da9e8277b847Fea74ff5ad30022464\"\n",
    "        }\n",
    "        \n",
    "    def GetStations(self):\n",
    "        return self.__get(self.get_stations_url)\n",
    "    \n",
    "    def GetStationStatus(self):\n",
    "        return self.__get(self.get_stations_status_url)\n",
    "    \n",
    "    def __get(self, url):\n",
    "        response = self.client.get(url, params=self.query_params)\n",
    "        if response.status_code >= 300:\n",
    "            raise requests.exceptions.HTTPError\n",
    "        data = response.json()\n",
    "        return data[\"data\"][\"stations\"]\n"
   ],
   "id": "911a1c77441e9fa2",
   "outputs": [],
   "execution_count": 9
  },
  {
   "metadata": {
    "ExecuteTime": {
     "end_time": "2025-05-02T00:52:12.250335Z",
     "start_time": "2025-05-02T00:52:12.244389Z"
    }
   },
   "cell_type": "code",
   "source": [
    "def preprocessStations(stations_df):\n",
    "    stations_df = stations_df[[\"station_id\", \"groups\"]]\n",
    "    return stations_df.explode(\"groups\")\n",
    "\n",
    "def preprocessStationsStatus(stations_status_df):\n",
    "    return station_status_df[\n",
    "        [\"station_id\",\n",
    "         \"num_bikes_available\", \n",
    "         \"num_bikes_disabled\", \n",
    "         \"num_docks_available\", \n",
    "         \"num_docks_disabled\"]\n",
    "    ]"
   ],
   "id": "66ac58d8ba32ecb0",
   "outputs": [],
   "execution_count": 20
  },
  {
   "metadata": {},
   "cell_type": "code",
   "outputs": [
    {
     "data": {
      "text/plain": [
       "'\\n# Load or create CSV\\ndf = pd.DataFrame(columns=[\"timestamp\", \"value\"])\\n\\n# Append new row\\ndf.loc[len(df)] = [datetime.utcnow().isoformat(), value]\\ndf.to_csv(\"data.csv\", index=False)'"
      ]
     },
     "execution_count": 13,
     "metadata": {},
     "output_type": "execute_result"
    }
   ],
   "execution_count": 13,
   "source": [
    "transportBAClient = TransportBAClient()\n",
    "stations = transportBAClient.GetStations()\n",
    "station_status = transportBAClient.GetStationStatus()\n",
    "\n",
    "stations_df = pd.DataFrame.from_dict(stations)\n",
    "station_status_df = pd.DataFrame.from_dict(station_status)\n",
    "\n",
    "stations_df = preprocessStations(stations_df)\n",
    "station_status_df = preprocessStationsStatus(station_status_df)\n",
    "join = pd.merge(stations_df, station_status_df, on=\"station_id\")\n",
    "\n",
    "\"\"\"\n",
    "# Load or create CSV\n",
    "df = pd.DataFrame(columns=[\"job_run_at\", \"value\"])\n",
    "\n",
    "# Append new row\n",
    "df.loc[len(df)] = [datetime.utcnow().isoformat(), value]\n",
    "df.to_csv(\"data.csv\", index=False)\"\"\""
   ],
   "id": "c3113b72bd5c195d"
  },
  {
   "metadata": {
    "ExecuteTime": {
     "end_time": "2025-05-02T01:23:13.285342Z",
     "start_time": "2025-05-02T01:23:13.277303Z"
    }
   },
   "cell_type": "code",
   "source": [
    "class CSVSaver():\n",
    "    def __init__(self):\n",
    "        self.schema = [\n",
    "            \"job_run_at\",\n",
    "            \"station_id\",\n",
    "            \"groups\",\n",
    "            \"num_bikes_available\", \n",
    "            \"num_bikes_disabled\", \n",
    "            \"num_docks_available\", \n",
    "            \"num_docks_disabled\",\n",
    "        ]\n",
    "    \n",
    "    def AppendWithJobRunAt(self, new_rows, filename):\n",
    "        try:\n",
    "            df = pd.read_csv(filename)\n",
    "        except FileNotFoundError:\n",
    "            df = pd.DataFrame(columns=self.schema)\n",
    "        new_rows[\"job_run_at\"] = datetime.now(UTC).isoformat()\n",
    "        new_rows[\"job_run_at\"] = pd.to_datetime(new_rows[\"job_run_at\"])\n",
    "        df = pd.concat([df, new_rows], ignore_index=True)\n",
    "        df.to_csv(filename, index=False)"
   ],
   "id": "2d97cecb6f7a4304",
   "outputs": [],
   "execution_count": 44
  },
  {
   "metadata": {
    "ExecuteTime": {
     "end_time": "2025-05-02T01:23:13.725628Z",
     "start_time": "2025-05-02T01:23:13.706203Z"
    }
   },
   "cell_type": "code",
   "source": [
    "csvSaver = CSVSaver()\n",
    "csvSaver.AppendWithJobRunAt(join, \"../data/stations.csv\")"
   ],
   "id": "46ff2d47cd8b0eee",
   "outputs": [],
   "execution_count": 45
  }
 ],
 "metadata": {
  "kernelspec": {
   "display_name": "Python 3",
   "language": "python",
   "name": "python3"
  },
  "language_info": {
   "codemirror_mode": {
    "name": "ipython",
    "version": 2
   },
   "file_extension": ".py",
   "mimetype": "text/x-python",
   "name": "python",
   "nbconvert_exporter": "python",
   "pygments_lexer": "ipython2",
   "version": "2.7.6"
  }
 },
 "nbformat": 4,
 "nbformat_minor": 5
}
