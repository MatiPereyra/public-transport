{
 "cells": [
  {
   "cell_type": "markdown",
   "id": "d4b076bdc246edd5",
   "metadata": {},
   "source": [
    "# Tareas\n",
    "1) Desde un notebook, script para llamar a ecobici y guardar alguna info SIMPLE (ej: cuántos slots ocupados) en csv.\n",
    "2) Agregar el secret para usar en github actions\n",
    "3) Configurar la Github Action para que haga un commit (en una branch en particular? O en main?)\n",
    "4) Luego de probar que funciona, agregar el cron a la github action\n",
    "5) Mergear a main el nuevo código"
   ]
  },
  {
   "cell_type": "code",
   "execution_count": 1,
   "id": "9a265977173e4809",
   "metadata": {
    "ExecuteTime": {
     "end_time": "2025-05-02T01:16:33.438925Z",
     "start_time": "2025-05-02T01:16:33.435188Z"
    },
    "execution": {
     "iopub.execute_input": "2025-05-02T02:44:09.059010Z",
     "iopub.status.busy": "2025-05-02T02:44:09.058514Z",
     "iopub.status.idle": "2025-05-02T02:44:09.412499Z",
     "shell.execute_reply": "2025-05-02T02:44:09.411736Z"
    }
   },
   "outputs": [],
   "source": [
    "import os\n",
    "from datetime import datetime, UTC\n",
    "import pandas as pd\n",
    "import requests\n",
    "from pandas.errors import EmptyDataError"
   ]
  },
  {
   "cell_type": "code",
   "execution_count": 2,
   "id": "911a1c77441e9fa2",
   "metadata": {
    "ExecuteTime": {
     "end_time": "2025-05-02T00:45:17.958591Z",
     "start_time": "2025-05-02T00:45:17.953074Z"
    },
    "execution": {
     "iopub.execute_input": "2025-05-02T02:44:09.415607Z",
     "iopub.status.busy": "2025-05-02T02:44:09.415284Z",
     "iopub.status.idle": "2025-05-02T02:44:09.420063Z",
     "shell.execute_reply": "2025-05-02T02:44:09.419633Z"
    }
   },
   "outputs": [],
   "source": [
    "class TransportBAClient():\n",
    "    def __init__(self):\n",
    "        self.get_stations_url = \"https://apitransporte.buenosaires.gob.ar/ecobici/gbfs/stationInformation?\"\n",
    "        self.get_stations_status_url = \"https://apitransporte.buenosaires.gob.ar/ecobici/gbfs/stationStatus?\"\n",
    "        self.client = requests.Session()\n",
    "        clientID = os.getenv(\"TRANSPORT_BA_CLIENT_ID\")\n",
    "        clientSecret = os.getenv(\"TRANSPORT_BA_SECRET\")\n",
    "        self.query_params = {\n",
    "            \"client_id\": clientID,\n",
    "            \"client_secret\": clientSecret\n",
    "        }\n",
    "        \n",
    "    def GetStations(self):\n",
    "        return self.__get(self.get_stations_url)\n",
    "    \n",
    "    def GetStationStatus(self):\n",
    "        return self.__get(self.get_stations_status_url)\n",
    "    \n",
    "    def __get(self, url):\n",
    "        response = self.client.get(url, params=self.query_params)\n",
    "        response.raise_for_status()\n",
    "        data = response.json()\n",
    "        return data[\"data\"][\"stations\"]\n"
   ]
  },
  {
   "cell_type": "code",
   "execution_count": 3,
   "id": "66ac58d8ba32ecb0",
   "metadata": {
    "ExecuteTime": {
     "end_time": "2025-05-02T00:52:12.250335Z",
     "start_time": "2025-05-02T00:52:12.244389Z"
    },
    "execution": {
     "iopub.execute_input": "2025-05-02T02:44:09.422279Z",
     "iopub.status.busy": "2025-05-02T02:44:09.422089Z",
     "iopub.status.idle": "2025-05-02T02:44:09.425118Z",
     "shell.execute_reply": "2025-05-02T02:44:09.424709Z"
    }
   },
   "outputs": [],
   "source": [
    "def preprocessStations(stations_df):\n",
    "    stations_df = stations_df[[\"station_id\", \"groups\"]]\n",
    "    return stations_df.explode(\"groups\")\n",
    "\n",
    "def preprocessStationsStatus(stations_status_df):\n",
    "    return station_status_df[\n",
    "        [\"station_id\",\n",
    "         \"num_bikes_available\", \n",
    "         \"num_bikes_disabled\", \n",
    "         \"num_docks_available\", \n",
    "         \"num_docks_disabled\"]\n",
    "    ]"
   ]
  },
  {
   "cell_type": "code",
   "execution_count": 4,
   "id": "c3113b72bd5c195d",
   "metadata": {
    "execution": {
     "iopub.execute_input": "2025-05-02T02:44:09.427425Z",
     "iopub.status.busy": "2025-05-02T02:44:09.427235Z",
     "iopub.status.idle": "2025-05-02T02:44:10.063985Z",
     "shell.execute_reply": "2025-05-02T02:44:10.063126Z"
    }
   },
   "outputs": [
    {
     "data": {
      "text/plain": [
       "'\\n# Load or create CSV\\ndf = pd.DataFrame(columns=[\"job_run_at\", \"value\"])\\n\\n# Append new row\\ndf.loc[len(df)] = [datetime.utcnow().isoformat(), value]\\ndf.to_csv(\"data.csv\", index=False)'"
      ]
     },
     "execution_count": 4,
     "metadata": {},
     "output_type": "execute_result"
    }
   ],
   "source": [
    "transportBAClient = TransportBAClient()\n",
    "stations = transportBAClient.GetStations()\n",
    "station_status = transportBAClient.GetStationStatus()\n",
    "\n",
    "stations_df = pd.DataFrame.from_dict(stations)\n",
    "station_status_df = pd.DataFrame.from_dict(station_status)\n",
    "\n",
    "stations_df = preprocessStations(stations_df)\n",
    "station_status_df = preprocessStationsStatus(station_status_df)\n",
    "join = pd.merge(stations_df, station_status_df, on=\"station_id\")\n",
    "\n",
    "\"\"\"\n",
    "# Load or create CSV\n",
    "df = pd.DataFrame(columns=[\"job_run_at\", \"value\"])\n",
    "\n",
    "# Append new row\n",
    "df.loc[len(df)] = [datetime.utcnow().isoformat(), value]\n",
    "df.to_csv(\"data.csv\", index=False)\"\"\""
   ]
  },
  {
   "cell_type": "code",
   "execution_count": 5,
   "id": "2d97cecb6f7a4304",
   "metadata": {
    "ExecuteTime": {
     "end_time": "2025-05-02T01:23:13.285342Z",
     "start_time": "2025-05-02T01:23:13.277303Z"
    },
    "execution": {
     "iopub.execute_input": "2025-05-02T02:44:10.068012Z",
     "iopub.status.busy": "2025-05-02T02:44:10.067686Z",
     "iopub.status.idle": "2025-05-02T02:44:10.073038Z",
     "shell.execute_reply": "2025-05-02T02:44:10.072417Z"
    }
   },
   "outputs": [],
   "source": [
    "class CSVSaver():\n",
    "    def __init__(self):\n",
    "        self.schema = [\n",
    "            \"job_run_at\",\n",
    "            \"station_id\",\n",
    "            \"groups\",\n",
    "            \"num_bikes_available\", \n",
    "            \"num_bikes_disabled\", \n",
    "            \"num_docks_available\", \n",
    "            \"num_docks_disabled\",\n",
    "        ]\n",
    "    \n",
    "    def AppendWithJobRunAt(self, new_rows, filename):\n",
    "        try:\n",
    "            df = pd.read_csv(filename)\n",
    "        except (FileNotFoundError, EmptyDataError):\n",
    "                df = pd.DataFrame(columns=self.schema)\n",
    "        new_rows[\"job_run_at\"] = datetime.now(UTC).isoformat()\n",
    "        new_rows[\"job_run_at\"] = pd.to_datetime(new_rows[\"job_run_at\"])\n",
    "        df = pd.concat([df, new_rows], ignore_index=True)\n",
    "        df.to_csv(filename, index=False)"
   ]
  },
  {
   "cell_type": "code",
   "execution_count": 6,
   "id": "46ff2d47cd8b0eee",
   "metadata": {
    "ExecuteTime": {
     "end_time": "2025-05-02T01:23:13.725628Z",
     "start_time": "2025-05-02T01:23:13.706203Z"
    },
    "execution": {
     "iopub.execute_input": "2025-05-02T02:44:10.075704Z",
     "iopub.status.busy": "2025-05-02T02:44:10.075429Z",
     "iopub.status.idle": "2025-05-02T02:44:10.112732Z",
     "shell.execute_reply": "2025-05-02T02:44:10.111928Z"
    }
   },
   "outputs": [
    {
     "name": "stderr",
     "output_type": "stream",
     "text": [
      "/var/folders/11/__8r4p2s6xn6zckr9rqhdxsm0000gn/T/ipykernel_28633/262158843.py:20: FutureWarning: The behavior of DataFrame concatenation with empty or all-NA entries is deprecated. In a future version, this will no longer exclude empty or all-NA columns when determining the result dtypes. To retain the old behavior, exclude the relevant entries before the concat operation.\n",
      "  df = pd.concat([df, new_rows], ignore_index=True)\n"
     ]
    }
   ],
   "source": [
    "csvSaver = CSVSaver()\n",
    "csvSaver.AppendWithJobRunAt(join, \"../data/stations.csv\")"
   ]
  }
 ],
 "metadata": {
  "kernelspec": {
   "display_name": "Python 3",
   "language": "python",
   "name": "python3"
  },
  "language_info": {
   "codemirror_mode": {
    "name": "ipython",
    "version": 3
   },
   "file_extension": ".py",
   "mimetype": "text/x-python",
   "name": "python",
   "nbconvert_exporter": "python",
   "pygments_lexer": "ipython3",
   "version": "3.12.3"
  }
 },
 "nbformat": 4,
 "nbformat_minor": 5
}
