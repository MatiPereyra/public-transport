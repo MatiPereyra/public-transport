{
 "cells": [
  {
   "cell_type": "markdown",
   "id": "d4b076bdc246edd5",
   "metadata": {},
   "source": [
    "# Tareas\n",
    "1) [DONE] Desde un notebook, script para llamar a ecobici y guardar alguna info SIMPLE (ej: cuántos slots ocupados) en csv.\n",
    "2) [DONE] Agregar el secret para usar en github actions\n",
    "3) [DONE] Configurar la Github Action para que haga un commit (en una branch en particular? O en main?)\n",
    "4) [DONE] Luego de probar que funciona, agregar el cron a la github action\n",
    "5) [DONE] Mergear a main el nuevo código\n",
    "6) Agregar un router y separar la github action en 2 jobs: una para el que inserta nueva info de las stations, y la otra que actualiza las distancias."
   ]
  },
  {
   "cell_type": "code",
   "id": "8cb61c5eece87336",
   "metadata": {
    "execution": {
     "iopub.execute_input": "2025-05-02T02:50:30.748708Z",
     "iopub.status.busy": "2025-05-02T02:50:30.748445Z",
     "iopub.status.idle": "2025-05-02T02:50:31.069168Z",
     "shell.execute_reply": "2025-05-02T02:50:31.068505Z"
    },
    "ExecuteTime": {
     "end_time": "2025-05-04T17:55:14.660886Z",
     "start_time": "2025-05-04T17:55:14.212451Z"
    }
   },
   "source": [
    "import pandas as pd\n",
    "\n",
    "from internal.platform.environment.environment import set_environment\n",
    "from internal.gateway.transportBA import transportBA\n",
    "from internal.repository.transportBA.stations_repository import StationsRepository\n",
    "from internal.gateway.openrouteservice.client import OpenRouteServiceClient\n",
    "from internal.gateway.openrouteservice.dataframe_adapter import OpenRouteServiceDataFrameAdapter"
   ],
   "outputs": [],
   "execution_count": 1
  },
  {
   "metadata": {
    "ExecuteTime": {
     "end_time": "2025-05-04T17:55:14.667240Z",
     "start_time": "2025-05-04T17:55:14.663361Z"
    }
   },
   "cell_type": "code",
   "source": "set_environment()",
   "id": "3154ccdc66e342a0",
   "outputs": [],
   "execution_count": 2
  },
  {
   "cell_type": "code",
   "id": "66ac58d8ba32ecb0",
   "metadata": {
    "execution": {
     "iopub.execute_input": "2025-05-02T02:50:31.077831Z",
     "iopub.status.busy": "2025-05-02T02:50:31.077648Z",
     "iopub.status.idle": "2025-05-02T02:50:31.080944Z",
     "shell.execute_reply": "2025-05-02T02:50:31.080336Z"
    },
    "ExecuteTime": {
     "end_time": "2025-05-04T17:55:14.672085Z",
     "start_time": "2025-05-04T17:55:14.668713Z"
    }
   },
   "source": [
    "def preprocessStations(stations_df):\n",
    "    return stations_df.explode(\"groups\")\n",
    "\n",
    "def preprocessStationsStatus(stations_status_df):\n",
    "    stations_status_df[\"status_last_reported_utc\"] = pd.to_datetime(stations_status_df[\"last_reported\"], unit=\"s\", utc=True)\n",
    "    return station_status_df"
   ],
   "outputs": [],
   "execution_count": 3
  },
  {
   "cell_type": "code",
   "id": "c3113b72bd5c195d",
   "metadata": {
    "execution": {
     "iopub.execute_input": "2025-05-02T02:50:31.082784Z",
     "iopub.status.busy": "2025-05-02T02:50:31.082603Z",
     "iopub.status.idle": "2025-05-02T02:50:34.137331Z",
     "shell.execute_reply": "2025-05-02T02:50:34.136613Z"
    },
    "ExecuteTime": {
     "end_time": "2025-05-04T17:55:15.714925Z",
     "start_time": "2025-05-04T17:55:14.674459Z"
    }
   },
   "source": [
    "# update stations.csv\n",
    "transportBAClient = transportBA.Client()\n",
    "stations_df = transportBAClient.GetStations()\n",
    "station_status_df = transportBAClient.GetStationStatus()\n",
    "stationsDao = StationsRepository()\n",
    "\n",
    "stations_df = preprocessStations(stations_df)\n",
    "station_status_df = preprocessStationsStatus(station_status_df)\n",
    "stations_with_status_df = pd.merge(stations_df, station_status_df, on=\"station_id\")\n",
    "\n",
    "stationsDao.AppendWithJobRunAt(stations_with_status_df)"
   ],
   "outputs": [],
   "execution_count": 4
  },
  {
   "metadata": {
    "ExecuteTime": {
     "end_time": "2025-05-04T18:00:24.371862Z",
     "start_time": "2025-05-04T18:00:24.278926Z"
    }
   },
   "cell_type": "code",
   "source": [
    "from internal.repository.transportBA.journeys_repository import JourneysRepository\n",
    "journeysDao = JourneysRepository()\n",
    "dataFrameAdapterClient = OpenRouteServiceDataFrameAdapter(client=OpenRouteServiceClient())\n",
    "\n",
    "length = len(stations_df)\n",
    "lower, stations_per_req = 0, 59  # max of 59 elements in request\n",
    "journeys_df = pd.DataFrame()\n",
    "stationsFromCSV = stationsDao.GroupByStationIDWithCoordinates()\n",
    "for i in range(0, int(length/59)):\n",
    "    stations_df_short = stationsFromCSV.iloc[lower*stations_per_req:(lower+1)*stations_per_req]\n",
    "    df = dataFrameAdapterClient.GetDurationMatrixFromDataFrame(\"cycling-regular\", stations_df_short)\n",
    "    journeys_df = pd.concat([journeys_df, df], ignore_index=True)\n",
    "\n",
    "journeysDao.Update(journeys_df, subset=[\"station_id_from\", \"station_id_to\"])"
   ],
   "id": "fa8a3571453ab20f",
   "outputs": [
    {
     "ename": "ValueError",
     "evalue": "DataFrame must contain columns: {'lon', 'station_id', 'lat'}",
     "output_type": "error",
     "traceback": [
      "\u001B[31m---------------------------------------------------------------------------\u001B[39m",
      "\u001B[31mValueError\u001B[39m                                Traceback (most recent call last)",
      "\u001B[36mCell\u001B[39m\u001B[36m \u001B[39m\u001B[32mIn[13]\u001B[39m\u001B[32m, line 11\u001B[39m\n\u001B[32m      9\u001B[39m \u001B[38;5;28;01mfor\u001B[39;00m i \u001B[38;5;129;01min\u001B[39;00m \u001B[38;5;28mrange\u001B[39m(\u001B[32m0\u001B[39m, \u001B[38;5;28mint\u001B[39m(length/\u001B[32m59\u001B[39m)):\n\u001B[32m     10\u001B[39m     stations_df_short = stationsFromCSV.iloc[lower*stations_per_req:(lower+\u001B[32m1\u001B[39m)*stations_per_req]\n\u001B[32m---> \u001B[39m\u001B[32m11\u001B[39m     df = \u001B[43mdataFrameAdapterClient\u001B[49m\u001B[43m.\u001B[49m\u001B[43mGetDurationMatrixFromDataFrame\u001B[49m\u001B[43m(\u001B[49m\u001B[33;43m\"\u001B[39;49m\u001B[33;43mcycling-regular\u001B[39;49m\u001B[33;43m\"\u001B[39;49m\u001B[43m,\u001B[49m\u001B[43m \u001B[49m\u001B[43mstations_df_short\u001B[49m\u001B[43m)\u001B[49m\n\u001B[32m     12\u001B[39m     journeys_df = pd.concat([journeys_df, df], ignore_index=\u001B[38;5;28;01mTrue\u001B[39;00m)\n\u001B[32m     14\u001B[39m journeysDao.Update(journeys_df, subset=[\u001B[33m\"\u001B[39m\u001B[33mstation_id_from\u001B[39m\u001B[33m\"\u001B[39m, \u001B[33m\"\u001B[39m\u001B[33mstation_id_to\u001B[39m\u001B[33m\"\u001B[39m])\n",
      "\u001B[36mFile \u001B[39m\u001B[32m~/Documents/personal/repos/testProject/internal/gateway/openrouteservice/dataframe_adapter.py:14\u001B[39m, in \u001B[36mOpenRouteServiceDataFrameAdapter.GetDurationMatrixFromDataFrame\u001B[39m\u001B[34m(self, profile, df)\u001B[39m\n\u001B[32m     12\u001B[39m required_cols = {\u001B[33m\"\u001B[39m\u001B[33mstation_id\u001B[39m\u001B[33m\"\u001B[39m, \u001B[33m\"\u001B[39m\u001B[33mlon\u001B[39m\u001B[33m\"\u001B[39m, \u001B[33m\"\u001B[39m\u001B[33mlat\u001B[39m\u001B[33m\"\u001B[39m}\n\u001B[32m     13\u001B[39m \u001B[38;5;28;01mif\u001B[39;00m \u001B[38;5;129;01mnot\u001B[39;00m required_cols.issubset(df.columns):\n\u001B[32m---> \u001B[39m\u001B[32m14\u001B[39m     \u001B[38;5;28;01mraise\u001B[39;00m \u001B[38;5;167;01mValueError\u001B[39;00m(\u001B[33mf\u001B[39m\u001B[33m\"\u001B[39m\u001B[33mDataFrame must contain columns: \u001B[39m\u001B[38;5;132;01m{\u001B[39;00mrequired_cols\u001B[38;5;132;01m}\u001B[39;00m\u001B[33m but has \u001B[39m\u001B[38;5;132;01m{\u001B[39;00mdf.columns\u001B[38;5;132;01m}\u001B[39;00m\u001B[33m\"\u001B[39m)\n\u001B[32m     16\u001B[39m locations = [Location(name=row[\u001B[33m\"\u001B[39m\u001B[33mstation_id\u001B[39m\u001B[33m\"\u001B[39m], longitude=row[\u001B[33m\"\u001B[39m\u001B[33mlon\u001B[39m\u001B[33m\"\u001B[39m], latitude=row[\u001B[33m\"\u001B[39m\u001B[33mlat\u001B[39m\u001B[33m\"\u001B[39m]) \u001B[38;5;28;01mfor\u001B[39;00m _, row \u001B[38;5;129;01min\u001B[39;00m df.iterrows()]\n\u001B[32m     17\u001B[39m matrix = \u001B[38;5;28mself\u001B[39m.client.GetDurationMatrix(profile, locations)\n",
      "\u001B[31mValueError\u001B[39m: DataFrame must contain columns: {'lon', 'station_id', 'lat'}"
     ]
    }
   ],
   "execution_count": 13
  },
  {
   "metadata": {},
   "cell_type": "code",
   "outputs": [],
   "execution_count": null,
   "source": "",
   "id": "62d5f67adf257415"
  }
 ],
 "metadata": {
  "kernelspec": {
   "display_name": "Python 3",
   "language": "python",
   "name": "python3"
  },
  "language_info": {
   "codemirror_mode": {
    "name": "ipython",
    "version": 3
   },
   "file_extension": ".py",
   "mimetype": "text/x-python",
   "name": "python",
   "nbconvert_exporter": "python",
   "pygments_lexer": "ipython3",
   "version": "3.12.3"
  }
 },
 "nbformat": 4,
 "nbformat_minor": 5
}
