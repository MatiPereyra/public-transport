{
 "cells": [
  {
   "cell_type": "markdown",
   "id": "d4b076bdc246edd5",
   "metadata": {},
   "source": [
    "# Tareas\n",
    "1) Desde un notebook, script para llamar a ecobici y guardar alguna info SIMPLE (ej: cuántos slots ocupados) en csv.\n",
    "2) Agregar el secret para usar en github actions\n",
    "3) Configurar la Github Action para que haga un commit (en una branch en particular? O en main?)\n",
    "4) Luego de probar que funciona, agregar el cron a la github action\n",
    "5) Mergear a main el nuevo código"
   ]
  },
  {
   "cell_type": "code",
   "id": "9a265977173e4809",
   "metadata": {
    "execution": {
     "iopub.execute_input": "2025-05-02T02:50:30.748708Z",
     "iopub.status.busy": "2025-05-02T02:50:30.748445Z",
     "iopub.status.idle": "2025-05-02T02:50:31.069168Z",
     "shell.execute_reply": "2025-05-02T02:50:31.068505Z"
    },
    "ExecuteTime": {
     "end_time": "2025-05-02T18:24:42.598749Z",
     "start_time": "2025-05-02T18:24:41.886605Z"
    }
   },
   "source": [
    "import pandas as pd\n",
    "\n",
    "from internal.platform.environment.environment import set_environment\n",
    "from internal.gateway.transportBA import transportBA\n",
    "from internal.repository.transportBA.stations_repository import StationsRepository"
   ],
   "outputs": [],
   "execution_count": 1
  },
  {
   "metadata": {
    "ExecuteTime": {
     "end_time": "2025-05-02T18:24:42.603603Z",
     "start_time": "2025-05-02T18:24:42.600706Z"
    }
   },
   "cell_type": "code",
   "source": "set_environment()",
   "id": "3154ccdc66e342a0",
   "outputs": [],
   "execution_count": 2
  },
  {
   "cell_type": "code",
   "id": "66ac58d8ba32ecb0",
   "metadata": {
    "execution": {
     "iopub.execute_input": "2025-05-02T02:50:31.077831Z",
     "iopub.status.busy": "2025-05-02T02:50:31.077648Z",
     "iopub.status.idle": "2025-05-02T02:50:31.080944Z",
     "shell.execute_reply": "2025-05-02T02:50:31.080336Z"
    },
    "ExecuteTime": {
     "end_time": "2025-05-02T18:24:43.653071Z",
     "start_time": "2025-05-02T18:24:43.647257Z"
    }
   },
   "source": [
    "def preprocessStations(stations_df):\n",
    "    stations_df = stations_df[[\"station_id\", \"groups\"]]\n",
    "    return stations_df.explode(\"groups\")\n",
    "\n",
    "def preprocessStationsStatus(stations_status_df):\n",
    "    stations_status_df[\"status_last_reported_utc\"] = pd.to_datetime(stations_status_df[\"last_reported\"], unit=\"s\", utc=True)\n",
    "    return station_status_df[\n",
    "        [\"station_id\",\n",
    "         \"num_bikes_available\", \n",
    "         \"num_bikes_disabled\", \n",
    "         \"num_docks_available\", \n",
    "         \"num_docks_disabled\",\n",
    "         \"status_last_reported_utc\"\n",
    "         ]\n",
    "    ]"
   ],
   "outputs": [],
   "execution_count": 3
  },
  {
   "cell_type": "code",
   "id": "c3113b72bd5c195d",
   "metadata": {
    "execution": {
     "iopub.execute_input": "2025-05-02T02:50:31.082784Z",
     "iopub.status.busy": "2025-05-02T02:50:31.082603Z",
     "iopub.status.idle": "2025-05-02T02:50:34.137331Z",
     "shell.execute_reply": "2025-05-02T02:50:34.136613Z"
    },
    "ExecuteTime": {
     "end_time": "2025-05-02T18:24:47.729737Z",
     "start_time": "2025-05-02T18:24:47.368088Z"
    }
   },
   "source": [
    "transportBAClient = transportBA.Client()\n",
    "stations_df = transportBAClient.GetStations()\n",
    "station_status_df = transportBAClient.GetStationStatus()\n",
    "stationsDao = StationsRepository()\n",
    "\n",
    "stations_df = preprocessStations(stations_df)\n",
    "station_status_df = preprocessStationsStatus(station_status_df)\n",
    "join = pd.merge(stations_df, station_status_df, on=\"station_id\")\n",
    "\n",
    "stationsDao.AppendWithJobRunAt(join)"
   ],
   "outputs": [
    {
     "ename": "HTTPError",
     "evalue": "401 Client Error: Unauthorized for url: https://apitransporte.buenosaires.gob.ar/ecobici/gbfs/stationInformation",
     "output_type": "error",
     "traceback": [
      "\u001B[31m---------------------------------------------------------------------------\u001B[39m",
      "\u001B[31mHTTPError\u001B[39m                                 Traceback (most recent call last)",
      "\u001B[36mCell\u001B[39m\u001B[36m \u001B[39m\u001B[32mIn[4]\u001B[39m\u001B[32m, line 2\u001B[39m\n\u001B[32m      1\u001B[39m transportBAClient = transportBA.Client()\n\u001B[32m----> \u001B[39m\u001B[32m2\u001B[39m stations_df = \u001B[43mtransportBAClient\u001B[49m\u001B[43m.\u001B[49m\u001B[43mGetStations\u001B[49m\u001B[43m(\u001B[49m\u001B[43m)\u001B[49m\n\u001B[32m      3\u001B[39m station_status_df = transportBAClient.GetStationStatus()\n\u001B[32m      4\u001B[39m stationsDao = StationsRepository()\n",
      "\u001B[36mFile \u001B[39m\u001B[32m~/Documents/personal/repos/testProject/internal/gateway/transportBA/transportBA.py:20\u001B[39m, in \u001B[36mClient.GetStations\u001B[39m\u001B[34m(self)\u001B[39m\n\u001B[32m     19\u001B[39m \u001B[38;5;28;01mdef\u001B[39;00m\u001B[38;5;250m \u001B[39m\u001B[34mGetStations\u001B[39m(\u001B[38;5;28mself\u001B[39m) -> Stations:\n\u001B[32m---> \u001B[39m\u001B[32m20\u001B[39m     df = \u001B[38;5;28;43mself\u001B[39;49m\u001B[43m.\u001B[49m\u001B[43m__get\u001B[49m\u001B[43m(\u001B[49m\u001B[38;5;28;43mself\u001B[39;49m\u001B[43m.\u001B[49m\u001B[43mget_stations_url\u001B[49m\u001B[43m)\u001B[49m\n\u001B[32m     21\u001B[39m     \u001B[38;5;28;01mreturn\u001B[39;00m Stations(df)\n",
      "\u001B[36mFile \u001B[39m\u001B[32m~/Documents/personal/repos/testProject/internal/gateway/transportBA/transportBA.py:29\u001B[39m, in \u001B[36mClient.__get\u001B[39m\u001B[34m(self, url)\u001B[39m\n\u001B[32m     27\u001B[39m \u001B[38;5;28;01mdef\u001B[39;00m\u001B[38;5;250m \u001B[39m\u001B[34m__get\u001B[39m(\u001B[38;5;28mself\u001B[39m, url):\n\u001B[32m     28\u001B[39m     response = \u001B[38;5;28mself\u001B[39m.client.get(url, params=\u001B[38;5;28mself\u001B[39m.query_params)\n\u001B[32m---> \u001B[39m\u001B[32m29\u001B[39m     \u001B[43mresponse\u001B[49m\u001B[43m.\u001B[49m\u001B[43mraise_for_status\u001B[49m\u001B[43m(\u001B[49m\u001B[43m)\u001B[49m\n\u001B[32m     30\u001B[39m     data = response.json()\n\u001B[32m     31\u001B[39m     \u001B[38;5;28;01mreturn\u001B[39;00m data[\u001B[33m\"\u001B[39m\u001B[33mdata\u001B[39m\u001B[33m\"\u001B[39m][\u001B[33m\"\u001B[39m\u001B[33mstations\u001B[39m\u001B[33m\"\u001B[39m]\n",
      "\u001B[36mFile \u001B[39m\u001B[32m~/Documents/personal/repos/testProject/.venv/lib/python3.12/site-packages/requests/models.py:1024\u001B[39m, in \u001B[36mResponse.raise_for_status\u001B[39m\u001B[34m(self)\u001B[39m\n\u001B[32m   1019\u001B[39m     http_error_msg = (\n\u001B[32m   1020\u001B[39m         \u001B[33mf\u001B[39m\u001B[33m\"\u001B[39m\u001B[38;5;132;01m{\u001B[39;00m\u001B[38;5;28mself\u001B[39m.status_code\u001B[38;5;132;01m}\u001B[39;00m\u001B[33m Server Error: \u001B[39m\u001B[38;5;132;01m{\u001B[39;00mreason\u001B[38;5;132;01m}\u001B[39;00m\u001B[33m for url: \u001B[39m\u001B[38;5;132;01m{\u001B[39;00m\u001B[38;5;28mself\u001B[39m.url\u001B[38;5;132;01m}\u001B[39;00m\u001B[33m\"\u001B[39m\n\u001B[32m   1021\u001B[39m     )\n\u001B[32m   1023\u001B[39m \u001B[38;5;28;01mif\u001B[39;00m http_error_msg:\n\u001B[32m-> \u001B[39m\u001B[32m1024\u001B[39m     \u001B[38;5;28;01mraise\u001B[39;00m HTTPError(http_error_msg, response=\u001B[38;5;28mself\u001B[39m)\n",
      "\u001B[31mHTTPError\u001B[39m: 401 Client Error: Unauthorized for url: https://apitransporte.buenosaires.gob.ar/ecobici/gbfs/stationInformation"
     ]
    }
   ],
   "execution_count": 4
  },
  {
   "metadata": {},
   "cell_type": "code",
   "outputs": [],
   "execution_count": null,
   "source": "",
   "id": "99297975f6f852f5"
  }
 ],
 "metadata": {
  "kernelspec": {
   "display_name": "Python 3",
   "language": "python",
   "name": "python3"
  },
  "language_info": {
   "codemirror_mode": {
    "name": "ipython",
    "version": 3
   },
   "file_extension": ".py",
   "mimetype": "text/x-python",
   "name": "python",
   "nbconvert_exporter": "python",
   "pygments_lexer": "ipython3",
   "version": "3.12.3"
  }
 },
 "nbformat": 4,
 "nbformat_minor": 5
}
