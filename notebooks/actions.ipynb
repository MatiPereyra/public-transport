{
 "cells": [
  {
   "cell_type": "markdown",
   "id": "d4b076bdc246edd5",
   "metadata": {},
   "source": [
    "# Tareas\n",
    "1) Desde un notebook, script para llamar a ecobici y guardar alguna info SIMPLE (ej: cuántos slots ocupados) en csv.\n",
    "2) Agregar el secret para usar en github actions\n",
    "3) Configurar la Github Action para que haga un commit (en una branch en particular? O en main?)\n",
    "4) Luego de probar que funciona, agregar el cron a la github action\n",
    "5) Mergear a main el nuevo código"
   ]
  },
  {
   "cell_type": "code",
   "id": "9a265977173e4809",
   "metadata": {
    "execution": {
     "iopub.execute_input": "2025-05-02T02:50:30.748708Z",
     "iopub.status.busy": "2025-05-02T02:50:30.748445Z",
     "iopub.status.idle": "2025-05-02T02:50:31.069168Z",
     "shell.execute_reply": "2025-05-02T02:50:31.068505Z"
    },
    "ExecuteTime": {
     "end_time": "2025-05-02T16:35:55.109063Z",
     "start_time": "2025-05-02T16:35:54.681327Z"
    }
   },
   "source": [
    "import os\n",
    "from datetime import datetime, UTC\n",
    "import pandas as pd\n",
    "import requests\n",
    "from pandas.errors import EmptyDataError"
   ],
   "outputs": [],
   "execution_count": 1
  },
  {
   "metadata": {
    "ExecuteTime": {
     "end_time": "2025-05-02T16:50:13.874697Z",
     "start_time": "2025-05-02T16:50:13.869165Z"
    }
   },
   "cell_type": "code",
   "source": [
    "def set_environment():\n",
    "    env_path = \"../.env\"\n",
    "    try:\n",
    "        with open(env_path, \"r\") as f:\n",
    "            for line in f:\n",
    "                if '=' in line and not line.strip().startswith(\"#\"):\n",
    "                    key, value = line.strip().split('=', 1)\n",
    "                    os.environ[key] = value\n",
    "    except FileNotFoundError:\n",
    "        return\n",
    "\n",
    "set_environment()"
   ],
   "id": "3154ccdc66e342a0",
   "outputs": [],
   "execution_count": 35
  },
  {
   "cell_type": "code",
   "id": "911a1c77441e9fa2",
   "metadata": {
    "execution": {
     "iopub.execute_input": "2025-05-02T02:50:31.071498Z",
     "iopub.status.busy": "2025-05-02T02:50:31.071231Z",
     "iopub.status.idle": "2025-05-02T02:50:31.075916Z",
     "shell.execute_reply": "2025-05-02T02:50:31.075292Z"
    },
    "ExecuteTime": {
     "end_time": "2025-05-02T16:50:14.432461Z",
     "start_time": "2025-05-02T16:50:14.427457Z"
    }
   },
   "source": [
    "class TransportBAClient():\n",
    "    def __init__(self):\n",
    "        self.get_stations_url = \"https://apitransporte.buenosaires.gob.ar/ecobici/gbfs/stationInformation?\"\n",
    "        self.get_stations_status_url = \"https://apitransporte.buenosaires.gob.ar/ecobici/gbfs/stationStatus?\"\n",
    "        self.client = requests.Session()\n",
    "        clientID = os.getenv(\"TRANSPORT_BA_CLIENT_ID\")\n",
    "        clientSecret = os.getenv(\"TRANSPORT_BA_SECRET\")\n",
    "        self.query_params = {\n",
    "            \"client_id\": clientID,\n",
    "            \"client_secret\": clientSecret\n",
    "        }\n",
    "        \n",
    "    def GetStations(self):\n",
    "        return self.__get(self.get_stations_url)\n",
    "    \n",
    "    def GetStationStatus(self):\n",
    "        return self.__get(self.get_stations_status_url)\n",
    "    \n",
    "    def __get(self, url):\n",
    "        response = self.client.get(url, params=self.query_params)\n",
    "        response.raise_for_status()\n",
    "        data = response.json()\n",
    "        return data[\"data\"][\"stations\"]\n"
   ],
   "outputs": [],
   "execution_count": 36
  },
  {
   "cell_type": "code",
   "id": "66ac58d8ba32ecb0",
   "metadata": {
    "execution": {
     "iopub.execute_input": "2025-05-02T02:50:31.077831Z",
     "iopub.status.busy": "2025-05-02T02:50:31.077648Z",
     "iopub.status.idle": "2025-05-02T02:50:31.080944Z",
     "shell.execute_reply": "2025-05-02T02:50:31.080336Z"
    },
    "ExecuteTime": {
     "end_time": "2025-05-02T16:50:16.302778Z",
     "start_time": "2025-05-02T16:50:16.297Z"
    }
   },
   "source": [
    "def preprocessStations(stations_df):\n",
    "    stations_df = stations_df[[\"station_id\", \"groups\"]]\n",
    "    return stations_df.explode(\"groups\")\n",
    "\n",
    "def preprocessStationsStatus(stations_status_df):\n",
    "    stations_status_df[\"status_last_reported_utc\"] = pd.to_datetime(stations_status_df[\"last_reported\"], unit=\"s\", utc=True)\n",
    "    return station_status_df[\n",
    "        [\"station_id\",\n",
    "         \"num_bikes_available\", \n",
    "         \"num_bikes_disabled\", \n",
    "         \"num_docks_available\", \n",
    "         \"num_docks_disabled\",\n",
    "         \"status_last_reported_utc\"\n",
    "         ]\n",
    "    ]"
   ],
   "outputs": [],
   "execution_count": 37
  },
  {
   "cell_type": "code",
   "id": "c3113b72bd5c195d",
   "metadata": {
    "execution": {
     "iopub.execute_input": "2025-05-02T02:50:31.082784Z",
     "iopub.status.busy": "2025-05-02T02:50:31.082603Z",
     "iopub.status.idle": "2025-05-02T02:50:34.137331Z",
     "shell.execute_reply": "2025-05-02T02:50:34.136613Z"
    },
    "ExecuteTime": {
     "end_time": "2025-05-02T16:50:20.942272Z",
     "start_time": "2025-05-02T16:50:20.281029Z"
    }
   },
   "source": [
    "set_environment()\n",
    "\n",
    "transportBAClient = TransportBAClient()\n",
    "stations = transportBAClient.GetStations()\n",
    "station_status = transportBAClient.GetStationStatus()\n",
    "\n",
    "stations_df = pd.DataFrame.from_dict(stations)\n",
    "station_status_df = pd.DataFrame.from_dict(station_status)\n",
    "\n",
    "stations_df = preprocessStations(stations_df)\n",
    "station_status_df = preprocessStationsStatus(station_status_df)\n",
    "join = pd.merge(stations_df, station_status_df, on=\"station_id\")"
   ],
   "outputs": [],
   "execution_count": 38
  },
  {
   "cell_type": "code",
   "id": "2d97cecb6f7a4304",
   "metadata": {
    "execution": {
     "iopub.execute_input": "2025-05-02T02:50:34.139394Z",
     "iopub.status.busy": "2025-05-02T02:50:34.139205Z",
     "iopub.status.idle": "2025-05-02T02:50:34.143400Z",
     "shell.execute_reply": "2025-05-02T02:50:34.142809Z"
    },
    "ExecuteTime": {
     "end_time": "2025-05-02T17:00:38.298029Z",
     "start_time": "2025-05-02T17:00:38.291398Z"
    }
   },
   "source": [
    "class StationsDAO():\n",
    "    def __init__(self):\n",
    "        self.filename = \"../data/stations.csv\"\n",
    "        self.schema = [\n",
    "            \"job_run_at\",\n",
    "            \"station_id\",\n",
    "            \"groups\",\n",
    "            \"num_bikes_available\", \n",
    "            \"num_bikes_disabled\", \n",
    "            \"num_docks_available\", \n",
    "            \"num_docks_disabled\",\n",
    "            \"status_last_reported_utc\"\n",
    "        ]\n",
    "        self.repo = CSVRepo(self.filename, self.schema)\n",
    "    \n",
    "    def AppendWithJobRunAt(self, new_rows):\n",
    "        new_rows[\"job_run_at\"] = datetime.now(UTC).isoformat()\n",
    "        new_rows[\"job_run_at\"] = pd.to_datetime(new_rows[\"job_run_at\"])\n",
    "        self.repo.Append(new_rows)\n",
    "\n",
    "\n",
    "class CSVRepo():\n",
    "    def __init__(self, table, schema):\n",
    "        self.filename = table\n",
    "        self.schema = schema\n",
    "        return\n",
    "    \n",
    "    def Append(self, new_rows: pd.DataFrame):\n",
    "        if set(new_rows.columns) != set(self.schema):\n",
    "            raise Exception(\"Schema mismatch: {} != {}\".format(set(self.schema), set(new_rows.columns)))\n",
    "        try:\n",
    "            df = pd.read_csv(self.filename)\n",
    "        except (FileNotFoundError, EmptyDataError):\n",
    "                df = pd.DataFrame(columns=self.schema)\n",
    "        df = pd.concat([df, new_rows], ignore_index=True)\n",
    "        df.to_csv(self.filename, index=False)\n"
   ],
   "outputs": [],
   "execution_count": 48
  },
  {
   "cell_type": "code",
   "id": "46ff2d47cd8b0eee",
   "metadata": {
    "execution": {
     "iopub.execute_input": "2025-05-02T02:50:34.145193Z",
     "iopub.status.busy": "2025-05-02T02:50:34.145008Z",
     "iopub.status.idle": "2025-05-02T02:50:34.171178Z",
     "shell.execute_reply": "2025-05-02T02:50:34.169955Z"
    },
    "ExecuteTime": {
     "end_time": "2025-05-02T17:01:42.659896Z",
     "start_time": "2025-05-02T17:01:42.642878Z"
    }
   },
   "source": [
    "stationsDao = StationsDAO()\n",
    "stationsDao.AppendWithJobRunAt(join)"
   ],
   "outputs": [],
   "execution_count": 51
  }
 ],
 "metadata": {
  "kernelspec": {
   "display_name": "Python 3",
   "language": "python",
   "name": "python3"
  },
  "language_info": {
   "codemirror_mode": {
    "name": "ipython",
    "version": 3
   },
   "file_extension": ".py",
   "mimetype": "text/x-python",
   "name": "python",
   "nbconvert_exporter": "python",
   "pygments_lexer": "ipython3",
   "version": "3.12.3"
  }
 },
 "nbformat": 4,
 "nbformat_minor": 5
}
